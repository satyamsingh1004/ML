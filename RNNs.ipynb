{
  "nbformat": 4,
  "nbformat_minor": 0,
  "metadata": {
    "colab": {
      "name": "RNNs.ipynb",
      "version": "0.3.2",
      "provenance": [],
      "collapsed_sections": [],
      "include_colab_link": true
    },
    "kernelspec": {
      "name": "python3",
      "display_name": "Python 3"
    }
  },
  "cells": [
    {
      "cell_type": "markdown",
      "metadata": {
        "id": "view-in-github",
        "colab_type": "text"
      },
      "source": [
        "<a href=\"https://colab.research.google.com/github/satyamsingh1004/ML/blob/master/RNNs.ipynb\" target=\"_parent\"><img src=\"https://colab.research.google.com/assets/colab-badge.svg\" alt=\"Open In Colab\"/></a>"
      ]
    },
    {
      "cell_type": "markdown",
      "metadata": {
        "id": "witL0UPx7dxw",
        "colab_type": "text"
      },
      "source": [
        "**Notes**\n",
        "\n",
        "\n",
        "*   In case of basic cells ( a single recurrent nueron or a layer of recurrent nuerons ),  the output is simply equal to the state , but in more complex cells this is not always the case. A cells hidden state and output may be different\n",
        "\n",
        "*  [Rnn Types](https://drive.google.com/open?id=1xnpAwujeR1ymXfqgg7HGy9KQnPETHZhN)\n",
        "        Sequence to sequence: To predict Time series, such as stock prices\n",
        "        Sequence to vector: to output sentiment score\n",
        "        Vector to sequence: to generate image caption\n",
        "        Encoder(sequence to vector) & Decoder(vector to sequence:) translating a sentence from one language to another\n",
        "\n",
        "\n",
        "*   **tf.Variable** vs  **tf.Placeholder**\n",
        "    tf.Variable is used for trainable variables such as weights and biases of model\n",
        "    tf.Placeholder is used to feed actual training examples\n",
        "*   Only after running **tf.global_variables_initializer()** in a session will your variables hold the values you told them to hold when you declare them (tf.Variable(tf.zeros(...)), tf.Variable(tf.random_normal(...)),...).\n",
        "\n",
        "\n",
        "        \n",
        "\n",
        "\n",
        "   \n",
        "\n"
      ]
    },
    {
      "cell_type": "code",
      "metadata": {
        "id": "aOokdwizOAMo",
        "colab_type": "code",
        "colab": {}
      },
      "source": [
        "import tensorflow as tf\n",
        "\n",
        "import numpy as np"
      ],
      "execution_count": 0,
      "outputs": []
    },
    {
      "cell_type": "code",
      "metadata": {
        "id": "RE1L3C6VZf0w",
        "colab_type": "code",
        "colab": {}
      },
      "source": [
        "n_inputs = 3\n",
        "n_nuerons = 5\n"
      ],
      "execution_count": 0,
      "outputs": []
    },
    {
      "cell_type": "code",
      "metadata": {
        "id": "V4wJdSysZpvY",
        "colab_type": "code",
        "colab": {}
      },
      "source": [
        "X0 = tf.placeholder(tf.float32,[None,n_inputs])\n",
        "X1 = tf.placeholder(tf.float32,[None,n_inputs])"
      ],
      "execution_count": 0,
      "outputs": []
    },
    {
      "cell_type": "code",
      "metadata": {
        "id": "bfp21VEcaHI8",
        "colab_type": "code",
        "colab": {}
      },
      "source": [
        "Wx = tf.Variable(tf.random_normal(shape=[n_inputs,n_nuerons],dtype=tf.float32))\n",
        "Wy = tf.Variable(tf.random_normal(shape=[n_nuerons,n_nuerons],dtype=tf.float32))\n",
        "b = tf.Variable(tf.zeros([1,n_nuerons],dtype=tf.float32))"
      ],
      "execution_count": 0,
      "outputs": []
    },
    {
      "cell_type": "code",
      "metadata": {
        "id": "pX0eaoVqcj6E",
        "colab_type": "code",
        "colab": {}
      },
      "source": [
        "Y0 = tf.tanh(tf.matmul(X0,Wx) + b)\n",
        "Y1 = tf.tanh(tf.matmul(X1,Wx) + tf.matmul(Y0,Wy)  + b)"
      ],
      "execution_count": 0,
      "outputs": []
    },
    {
      "cell_type": "code",
      "metadata": {
        "id": "PMt4JSsvdzHD",
        "colab_type": "code",
        "colab": {}
      },
      "source": [
        "init = tf.global_variables_initializer()"
      ],
      "execution_count": 0,
      "outputs": []
    },
    {
      "cell_type": "code",
      "metadata": {
        "id": "Cmyq6MW6etrP",
        "colab_type": "code",
        "colab": {}
      },
      "source": [
        "# Mini-batch: instance 0,instance 1,instance 2,instance 3\n",
        "X0_batch = np.array([[0, 1, 2], [3, 4, 5], [6, 7, 8], [9, 0, 1]]) # t = 0\n",
        "X1_batch = np.array([[9, 8, 7], [0, 0, 0], [6, 5, 4], [3, 2, 1]]) # t = 1"
      ],
      "execution_count": 0,
      "outputs": []
    },
    {
      "cell_type": "code",
      "metadata": {
        "id": "SCHbu9GGe1Dc",
        "colab_type": "code",
        "colab": {}
      },
      "source": [
        "with tf.Session() as sess:\n",
        "  init.run()\n",
        "  Y0_val, Y1_val = sess.run([Y0, Y1], feed_dict={X0: X0_batch, X1: X1_batch})"
      ],
      "execution_count": 0,
      "outputs": []
    },
    {
      "cell_type": "code",
      "metadata": {
        "id": "dhJIK8NYfSwe",
        "colab_type": "code",
        "outputId": "35544195-51e5-47b1-e23f-10c1d96bccc2",
        "colab": {
          "base_uri": "https://localhost:8080/",
          "height": 85
        }
      },
      "source": [
        "print(Y0_val)"
      ],
      "execution_count": 26,
      "outputs": [
        {
          "output_type": "stream",
          "text": [
            "[[-0.9697882  -0.4794922   0.13477547  0.9792721  -0.9942793 ]\n",
            " [-0.9999814  -0.99470097  0.958046    0.5550592  -0.99999887]\n",
            " [-1.         -0.99996     0.99879646 -0.773177   -1.        ]\n",
            " [-0.96932214 -0.9999298   0.9928438  -1.          0.8819471 ]]\n"
          ],
          "name": "stdout"
        }
      ]
    },
    {
      "cell_type": "markdown",
      "metadata": {
        "id": "kJogKRqCqeYN",
        "colab_type": "text"
      },
      "source": [
        "**Static unrolling through time**\n",
        "\n",
        "When you are using\n",
        "basic cells, the final state is simply equal to the last output."
      ]
    },
    {
      "cell_type": "code",
      "metadata": {
        "id": "IR_nGsVSqWb1",
        "colab_type": "code",
        "colab": {
          "base_uri": "https://localhost:8080/",
          "height": 34
        },
        "outputId": "b15da001-619d-4da4-8649-5469725dc35d"
      },
      "source": [
        "tf.reset_default_graph()\n",
        "\n",
        "X0 = tf.placeholder(tf.float32,[None,n_inputs])\n",
        "X1 = tf.placeholder(tf.float32,[None,n_inputs])\n",
        "\n",
        "basic_cell = tf.contrib.rnn.BasicRNNCell(num_units=n_nuerons)\n",
        "output_seqs, states = tf.contrib.rnn.static_rnn(basic_cell,[X0,X1],dtype=tf.float32)\n",
        "\n",
        "Y0,Y1 = output_seqs\n",
        "#S0,S1 = states\n",
        "\n",
        "print('Outputs: ', Y0)\n",
        "#print('States: ', S0)"
      ],
      "execution_count": 27,
      "outputs": [
        {
          "output_type": "stream",
          "text": [
            "Outputs:  Tensor(\"rnn/basic_rnn_cell/Tanh:0\", shape=(?, 5), dtype=float32)\n"
          ],
          "name": "stdout"
        }
      ]
    },
    {
      "cell_type": "code",
      "metadata": {
        "id": "rZrtUI6Mq8wc",
        "colab_type": "code",
        "colab": {}
      },
      "source": [
        ""
      ],
      "execution_count": 0,
      "outputs": []
    }
  ]
}