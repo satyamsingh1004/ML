{
  "nbformat": 4,
  "nbformat_minor": 0,
  "metadata": {
    "colab": {
      "name": "RNNs.ipynb",
      "version": "0.3.2",
      "provenance": [],
      "collapsed_sections": [],
      "include_colab_link": true
    },
    "kernelspec": {
      "name": "python3",
      "display_name": "Python 3"
    }
  },
  "cells": [
    {
      "cell_type": "markdown",
      "metadata": {
        "id": "view-in-github",
        "colab_type": "text"
      },
      "source": [
        "<a href=\"https://colab.research.google.com/github/satyamsingh1004/ML/blob/master/RNNs.ipynb\" target=\"_parent\"><img src=\"https://colab.research.google.com/assets/colab-badge.svg\" alt=\"Open In Colab\"/></a>"
      ]
    },
    {
      "cell_type": "markdown",
      "metadata": {
        "id": "witL0UPx7dxw",
        "colab_type": "text"
      },
      "source": [
        "**Notes**\n",
        "\n",
        "\n",
        "*   In case of basic cells ( a single recurrent nueron or a layer of recurrent nuerons ),  the output is simply equal to the state , but in more complex cells this is not always the case. A cells hidden state and output may be different\n",
        "\n",
        "*  [Rnn Types](https://drive.google.com/open?id=1xnpAwujeR1ymXfqgg7HGy9KQnPETHZhN)\n",
        "        Sequence to sequence: To predict Time series, such as stock prices\n",
        "        Sequence to vector: to output sentiment score\n",
        "        Vector to sequence: to generate image caption\n",
        "        Encoder(sequence to vector) & Decoder(vector to sequence:) translating a sentence from one language to another\n",
        "\n",
        "\n",
        "*   **tf.Variable** vs  **tf.Placeholder**\n",
        "    tf.Variable is used for trainable variables such as weights and biases of model\n",
        "    tf.Placeholder is used to feed actual training examples\n",
        "*   Only after running **tf.global_variables_initializer()** in a session will your variables hold the values you told them to hold when you declare them (tf.Variable(tf.zeros(...)), tf.Variable(tf.random_normal(...)),...).\n",
        "\n",
        "\n",
        "        \n",
        "\n",
        "\n",
        "   \n",
        "\n"
      ]
    },
    {
      "cell_type": "code",
      "metadata": {
        "id": "aOokdwizOAMo",
        "colab_type": "code",
        "colab": {}
      },
      "source": [
        "import tensorflow as tf\n",
        "\n",
        "import numpy as np"
      ],
      "execution_count": 0,
      "outputs": []
    },
    {
      "cell_type": "code",
      "metadata": {
        "id": "RE1L3C6VZf0w",
        "colab_type": "code",
        "colab": {}
      },
      "source": [
        "n_inputs = 3\n",
        "n_nuerons = 5\n"
      ],
      "execution_count": 0,
      "outputs": []
    },
    {
      "cell_type": "code",
      "metadata": {
        "id": "V4wJdSysZpvY",
        "colab_type": "code",
        "colab": {}
      },
      "source": [
        "X0 = tf.placeholder(tf.float32,[None,n_inputs])\n",
        "X1 = tf.placeholder(tf.float32,[None,n_inputs])"
      ],
      "execution_count": 0,
      "outputs": []
    },
    {
      "cell_type": "code",
      "metadata": {
        "id": "bfp21VEcaHI8",
        "colab_type": "code",
        "colab": {}
      },
      "source": [
        "Wx = tf.Variable(tf.random_normal(shape=[n_inputs,n_nuerons],dtype=tf.float32))\n",
        "Wy = tf.Variable(tf.random_normal(shape=[n_nuerons,n_nuerons],dtype=tf.float32))\n",
        "b = tf.Variable(tf.zeros([1,n_nuerons],dtype=tf.float32))"
      ],
      "execution_count": 0,
      "outputs": []
    },
    {
      "cell_type": "code",
      "metadata": {
        "id": "pX0eaoVqcj6E",
        "colab_type": "code",
        "colab": {}
      },
      "source": [
        "Y0 = tf.tanh(tf.matmul(X0,Wx) + b)\n",
        "Y1 = tf.tanh(tf.matmul(X1,Wx) + tf.matmul(Y0,Wy)  + b)"
      ],
      "execution_count": 0,
      "outputs": []
    },
    {
      "cell_type": "code",
      "metadata": {
        "id": "PMt4JSsvdzHD",
        "colab_type": "code",
        "colab": {}
      },
      "source": [
        "#init = tf.global_variables_initializer()"
      ],
      "execution_count": 0,
      "outputs": []
    },
    {
      "cell_type": "code",
      "metadata": {
        "id": "Cmyq6MW6etrP",
        "colab_type": "code",
        "colab": {}
      },
      "source": [
        "# Mini-batch: instance 0,instance 1,instance 2,instance 3\n",
        "X0_batch = np.array([[0, 1, 2], [3, 4, 5], [6, 7, 8], [9, 0, 1]]) # t = 0\n",
        "X1_batch = np.array([[9, 8, 7], [0, 0, 0], [6, 5, 4], [3, 2, 1]]) # t = 1"
      ],
      "execution_count": 0,
      "outputs": []
    },
    {
      "cell_type": "code",
      "metadata": {
        "id": "SCHbu9GGe1Dc",
        "colab_type": "code",
        "colab": {}
      },
      "source": [
        "#with tf.Session() as sess:\n",
        "  #init.run()\n",
        "  #Y0_val, Y1_val = sess.run([Y0, Y1], feed_dict={X0: X0_batch, X1: X1_batch})"
      ],
      "execution_count": 0,
      "outputs": []
    },
    {
      "cell_type": "code",
      "metadata": {
        "id": "dhJIK8NYfSwe",
        "colab_type": "code",
        "colab": {}
      },
      "source": [
        "#print(Y0_val)"
      ],
      "execution_count": 0,
      "outputs": []
    },
    {
      "cell_type": "markdown",
      "metadata": {
        "id": "kJogKRqCqeYN",
        "colab_type": "text"
      },
      "source": [
        "**Static unrolling through time**\n",
        "\n",
        "When you are using\n",
        "basic cells, the final state is simply equal to the last output."
      ]
    },
    {
      "cell_type": "code",
      "metadata": {
        "id": "IR_nGsVSqWb1",
        "colab_type": "code",
        "colab": {}
      },
      "source": [
        "#tf.reset_default_graph()\n",
        "\n",
        "#X0 = tf.placeholder(tf.float32,[None,n_inputs])\n",
        "#X1 = tf.placeholder(tf.float32,[None,n_inputs])\n",
        "\n",
        "#basic_cell = tf.contrib.rnn.BasicRNNCell(num_units=n_nuerons)\n",
        "#output_seqs, states = tf.contrib.rnn.static_rnn(basic_cell,[X0,X1],dtype=tf.float32)\n",
        "\n",
        "#Y0,Y1 = output_seqs\n",
        "#S0,S1 = states\n",
        "\n",
        "#print('Outputs: ', Y0)\n",
        "#print('States: ', S0)"
      ],
      "execution_count": 0,
      "outputs": []
    },
    {
      "cell_type": "code",
      "metadata": {
        "id": "rZrtUI6Mq8wc",
        "colab_type": "code",
        "outputId": "152762af-6457-44a1-b61b-ed33414f00f1",
        "colab": {
          "base_uri": "https://localhost:8080/",
          "height": 410
        }
      },
      "source": [
        "tf.reset_default_graph()\n",
        "n_steps = 2\n",
        "\n",
        "X = tf.placeholder(tf.float32, [None, n_steps, n_inputs])\n",
        "X_seqs = tf.unstack(tf.transpose(X, perm=[1, 0, 2]))\n",
        "basic_cell = tf.contrib.rnn.BasicRNNCell(num_units=n_nuerons)\n",
        "output_seqs, states = tf.contrib.rnn.static_rnn(\n",
        "basic_cell, X_seqs, dtype=tf.float32)\n",
        "outputs = tf.transpose(tf.stack(output_seqs), perm=[1, 0, 2])\n",
        "## work on states later"
      ],
      "execution_count": 0,
      "outputs": [
        {
          "output_type": "stream",
          "text": [
            "WARNING: Logging before flag parsing goes to stderr.\n",
            "W0702 10:08:24.580158 140477367760768 lazy_loader.py:50] \n",
            "The TensorFlow contrib module will not be included in TensorFlow 2.0.\n",
            "For more information, please see:\n",
            "  * https://github.com/tensorflow/community/blob/master/rfcs/20180907-contrib-sunset.md\n",
            "  * https://github.com/tensorflow/addons\n",
            "  * https://github.com/tensorflow/io (for I/O related ops)\n",
            "If you depend on functionality not listed there, please file an issue.\n",
            "\n",
            "W0702 10:08:24.581925 140477367760768 deprecation.py:323] From <ipython-input-11-989a8ae219c7>:6: BasicRNNCell.__init__ (from tensorflow.python.ops.rnn_cell_impl) is deprecated and will be removed in a future version.\n",
            "Instructions for updating:\n",
            "This class is equivalent as tf.keras.layers.SimpleRNNCell, and will be replaced by that in Tensorflow 2.0.\n",
            "W0702 10:08:24.583628 140477367760768 deprecation.py:323] From <ipython-input-11-989a8ae219c7>:8: static_rnn (from tensorflow.python.ops.rnn) is deprecated and will be removed in a future version.\n",
            "Instructions for updating:\n",
            "Please use `keras.layers.RNN(cell, unroll=True)`, which is equivalent to this API\n",
            "W0702 10:08:24.614864 140477367760768 deprecation.py:506] From /usr/local/lib/python3.6/dist-packages/tensorflow/python/ops/init_ops.py:1251: calling VarianceScaling.__init__ (from tensorflow.python.ops.init_ops) with dtype is deprecated and will be removed in a future version.\n",
            "Instructions for updating:\n",
            "Call initializer instance with the dtype argument instead of passing it to the constructor\n",
            "W0702 10:08:24.629904 140477367760768 deprecation.py:506] From /usr/local/lib/python3.6/dist-packages/tensorflow/python/ops/rnn_cell_impl.py:459: calling Zeros.__init__ (from tensorflow.python.ops.init_ops) with dtype is deprecated and will be removed in a future version.\n",
            "Instructions for updating:\n",
            "Call initializer instance with the dtype argument instead of passing it to the constructor\n"
          ],
          "name": "stderr"
        }
      ]
    },
    {
      "cell_type": "code",
      "metadata": {
        "id": "Gd1kF4-Vzigc",
        "colab_type": "code",
        "colab": {}
      },
      "source": [
        "X_batch = np.array([\n",
        "# t = 0 t = 1\n",
        "[[0, 1, 2], [9, 8, 7]], # instance 0\n",
        "[[3, 4, 5], [0, 0, 0]], # instance 1\n",
        "[[6, 7, 8], [6, 5, 4]], # instance 2\n",
        "[[9, 0, 1], [3, 2, 1]], # instance 3\n",
        "])"
      ],
      "execution_count": 0,
      "outputs": []
    },
    {
      "cell_type": "code",
      "metadata": {
        "id": "ZKJZaJsN1GAX",
        "colab_type": "code",
        "colab": {}
      },
      "source": [
        "#init = tf.global_variables_initializer()\n",
        "#with tf.Session() as sess:\n",
        "  #init.run()\n",
        "  #outputs_val = outputs.eval(feed_dict={X: X_batch})"
      ],
      "execution_count": 0,
      "outputs": []
    },
    {
      "cell_type": "code",
      "metadata": {
        "id": "DPvFMVsa3HNl",
        "colab_type": "code",
        "colab": {}
      },
      "source": [
        "#print(outputs_val)"
      ],
      "execution_count": 0,
      "outputs": []
    },
    {
      "cell_type": "markdown",
      "metadata": {
        "id": "v9u87XlEY_VR",
        "colab_type": "text"
      },
      "source": [
        "Dynamic Unrolling Through Time"
      ]
    },
    {
      "cell_type": "code",
      "metadata": {
        "id": "WBCQru7l3ILu",
        "colab_type": "code",
        "outputId": "cde61f7a-4834-4e66-f284-32e1d3e66cf8",
        "colab": {
          "base_uri": "https://localhost:8080/",
          "height": 143
        }
      },
      "source": [
        "tf.reset_default_graph()\n",
        "X = tf.placeholder(tf.float32, [None, n_steps, n_inputs])\n",
        "seq_length = tf.placeholder(tf.int32, [None])\n",
        "\n",
        "basic_cell = tf.contrib.rnn.BasicRNNCell(num_units=n_nuerons)\n",
        "outputs, states = tf.nn.dynamic_rnn(basic_cell, X, dtype=tf.float32,\n",
        "sequence_length=seq_length)"
      ],
      "execution_count": 0,
      "outputs": [
        {
          "output_type": "stream",
          "text": [
            "W0702 10:08:24.806543 140477367760768 deprecation.py:323] From <ipython-input-15-09180b75c696>:7: dynamic_rnn (from tensorflow.python.ops.rnn) is deprecated and will be removed in a future version.\n",
            "Instructions for updating:\n",
            "Please use `keras.layers.RNN(cell)`, which is equivalent to this API\n",
            "W0702 10:08:24.912296 140477367760768 deprecation.py:323] From /usr/local/lib/python3.6/dist-packages/tensorflow/python/ops/rnn.py:244: add_dispatch_support.<locals>.wrapper (from tensorflow.python.ops.array_ops) is deprecated and will be removed in a future version.\n",
            "Instructions for updating:\n",
            "Use tf.where in 2.0, which has the same broadcast rule as np.where\n"
          ],
          "name": "stderr"
        }
      ]
    },
    {
      "cell_type": "code",
      "metadata": {
        "id": "0qexWTIga3e6",
        "colab_type": "code",
        "colab": {}
      },
      "source": [
        "X_batch = np.array([\n",
        "# step 0 step 1\n",
        "[[0, 1, 2], [9, 8, 7]], # instance 0\n",
        "[[3, 4, 5], [0, 0, 0]], # instance 1 (padded with a zero vector)\n",
        "[[6, 7, 8], [6, 5, 4]], # instance 2\n",
        "[[9, 0, 1], [3, 2, 1]], # instance 3\n",
        "])\n",
        "seq_length_batch = np.array([2, 1, 2, 2])"
      ],
      "execution_count": 0,
      "outputs": []
    },
    {
      "cell_type": "code",
      "metadata": {
        "id": "r0tjkUJWa8QJ",
        "colab_type": "code",
        "outputId": "07417ce9-9b5e-443f-abb8-833d85c18377",
        "colab": {
          "base_uri": "https://localhost:8080/",
          "height": 221
        }
      },
      "source": [
        "#init = tf.global_variables_initializer()\n",
        "with tf.Session() as sess:\n",
        "  init.run()\n",
        "  outputs_val, states_val = sess.run(\n",
        "  [outputs, states], feed_dict={X: X_batch, seq_length: seq_length_batch})"
      ],
      "execution_count": 0,
      "outputs": [
        {
          "output_type": "error",
          "ename": "NameError",
          "evalue": "ignored",
          "traceback": [
            "\u001b[0;31m---------------------------------------------------------------------------\u001b[0m",
            "\u001b[0;31mNameError\u001b[0m                                 Traceback (most recent call last)",
            "\u001b[0;32m<ipython-input-17-5717863178f9>\u001b[0m in \u001b[0;36m<module>\u001b[0;34m()\u001b[0m\n\u001b[1;32m      1\u001b[0m \u001b[0;32mwith\u001b[0m \u001b[0mtf\u001b[0m\u001b[0;34m.\u001b[0m\u001b[0mSession\u001b[0m\u001b[0;34m(\u001b[0m\u001b[0;34m)\u001b[0m \u001b[0;32mas\u001b[0m \u001b[0msess\u001b[0m\u001b[0;34m:\u001b[0m\u001b[0;34m\u001b[0m\u001b[0;34m\u001b[0m\u001b[0m\n\u001b[0;32m----> 2\u001b[0;31m   \u001b[0minit\u001b[0m\u001b[0;34m.\u001b[0m\u001b[0mrun\u001b[0m\u001b[0;34m(\u001b[0m\u001b[0;34m)\u001b[0m\u001b[0;34m\u001b[0m\u001b[0;34m\u001b[0m\u001b[0m\n\u001b[0m\u001b[1;32m      3\u001b[0m   outputs_val, states_val = sess.run(\n\u001b[1;32m      4\u001b[0m   [outputs, states], feed_dict={X: X_batch, seq_length: seq_length_batch})\n",
            "\u001b[0;31mNameError\u001b[0m: name 'init' is not defined"
          ]
        }
      ]
    },
    {
      "cell_type": "code",
      "metadata": {
        "id": "q-NON9my9_wa",
        "colab_type": "code",
        "colab": {}
      },
      "source": [
        "print(outputs_val)"
      ],
      "execution_count": 0,
      "outputs": []
    },
    {
      "cell_type": "markdown",
      "metadata": {
        "id": "hC1iAjTN8qs4",
        "colab_type": "text"
      },
      "source": [
        "MNIST using RNNs"
      ]
    },
    {
      "cell_type": "code",
      "metadata": {
        "id": "pRHPDWPj-Zys",
        "colab_type": "code",
        "colab": {}
      },
      "source": [
        "from tensorflow.contrib.layers import fully_connected"
      ],
      "execution_count": 0,
      "outputs": []
    },
    {
      "cell_type": "code",
      "metadata": {
        "id": "J5HQs31l-j7n",
        "colab_type": "code",
        "colab": {}
      },
      "source": [
        "tf.reset_default_graph()\n",
        "\n",
        "n_steps = 28\n",
        "n_inputs = 28\n",
        "\n",
        "n_neurons = 150\n",
        "n_outputs = 10\n",
        "\n",
        "learning_rate = 0.001\n",
        "\n",
        "X= tf.placeholder(tf.float32,[None,n_steps,n_inputs])\n",
        "y = tf.placeholder(tf.int32,[None])\n",
        "\n",
        "with tf.variable_scope('rnn', initializer=tf.contrib.layers.variance_scaling_initializer(dtype=tf.float32)):\n",
        "  basic_cell = tf.contrib.rnn.BasicRNNCell(num_units=n_neurons) \n",
        "  outputs,states = tf.nn.dynamic_rnn(basic_cell,X,dtype=tf.float32)\n",
        "\n",
        "  logits = fully_connected(states,n_outputs,activation_fn = None)\n",
        "  xentropy = tf.nn.sparse_softmax_cross_entropy_with_logits(labels=y,logits=logits)\n",
        "  loss = tf.reduce_mean(xentropy)\n",
        "  optimizer = tf.train.AdamOptimizer(learning_rate= learning_rate)\n",
        "\n",
        "  training_op = optimizer.minimize(loss)\n",
        "  correct = tf.nn.in_top_k(logits,y,1)\n",
        "  accuracy = tf.reduce_mean((tf.cast(correct,tf.float32)))"
      ],
      "execution_count": 0,
      "outputs": []
    },
    {
      "cell_type": "code",
      "metadata": {
        "id": "EwpezFx2CifX",
        "colab_type": "code",
        "colab": {}
      },
      "source": [
        "init = tf.global_variables_initializer()"
      ],
      "execution_count": 0,
      "outputs": []
    },
    {
      "cell_type": "code",
      "metadata": {
        "id": "pJGt0rowCcLH",
        "colab_type": "code",
        "colab": {}
      },
      "source": [
        "from tensorflow.examples.tutorials.mnist import input_data"
      ],
      "execution_count": 0,
      "outputs": []
    },
    {
      "cell_type": "code",
      "metadata": {
        "id": "CALKuAU3AkAW",
        "colab_type": "code",
        "outputId": "30073fc8-f693-4bb9-b89b-7450b5e211b5",
        "colab": {
          "base_uri": "https://localhost:8080/",
          "height": 87
        }
      },
      "source": [
        "mnist = input_data.read_data_sets(\"tmp/data/\")"
      ],
      "execution_count": 0,
      "outputs": [
        {
          "output_type": "stream",
          "text": [
            "Extracting tmp/data/train-images-idx3-ubyte.gz\n",
            "Extracting tmp/data/train-labels-idx1-ubyte.gz\n",
            "Extracting tmp/data/t10k-images-idx3-ubyte.gz\n",
            "Extracting tmp/data/t10k-labels-idx1-ubyte.gz\n"
          ],
          "name": "stdout"
        }
      ]
    },
    {
      "cell_type": "code",
      "metadata": {
        "id": "eizwf4CLF9cz",
        "colab_type": "code",
        "colab": {}
      },
      "source": [
        "X_test = mnist.test.images.reshape((-1,n_steps,n_inputs))\n",
        "y_test = mnist.test.labels"
      ],
      "execution_count": 0,
      "outputs": []
    },
    {
      "cell_type": "code",
      "metadata": {
        "id": "s1tRokRRGXqV",
        "colab_type": "code",
        "colab": {}
      },
      "source": [
        "n_epochs = 100\n",
        "batch_size = 150"
      ],
      "execution_count": 0,
      "outputs": []
    },
    {
      "cell_type": "code",
      "metadata": {
        "id": "9JupqQskGpJv",
        "colab_type": "code",
        "colab": {}
      },
      "source": [
        "with tf.Session() as sess:\n",
        "  init.run()\n",
        "  for epoch in range(n_epochs):\n",
        "    for iteration in range(mnist.train.num_examples // batch_size):\n",
        "      X_batch, y_batch = mnist.train.next_batch(batch_size)\n",
        "      X_batch = X_batch.reshape((-1,n_steps,n_inputs))\n",
        "      sess.run(training_op,feed_dict={X:X_batch,y:y_batch})\n",
        "    acc_train = accuracy.eval(feed_dict={X:X_batch,y:y_batch})\n",
        "    acc_test = accuracy.eval(feed_dict={X:X_test,y:y_test})\n",
        "    print(epoch,\"Train accuracy: \",acc_train,\"; Test accuracy: \", acc_test)\n",
        "      \n",
        "    "
      ],
      "execution_count": 0,
      "outputs": []
    },
    {
      "cell_type": "markdown",
      "metadata": {
        "id": "80IHXwa2bWxM",
        "colab_type": "text"
      },
      "source": [
        "Time Series Prediction\n",
        "\n",
        "\n",
        "*   an OutputProjectionWrapper is the simplest solution to reduce the\n",
        "dimensionality of the RNN’s output sequences down to just one value per time step\n",
        "(per instance), it is not the most efficient.\n",
        "*   List item\n",
        "\n",
        "\n",
        "\n",
        "\n",
        "\n"
      ]
    },
    {
      "cell_type": "code",
      "metadata": {
        "id": "lXk2gNXkbWIU",
        "colab_type": "code",
        "colab": {}
      },
      "source": [
        "tf.reset_default_graph()\n",
        "\n",
        "n_steps = 20\n",
        "n_inputs = 1\n",
        "n_neurons = 100\n",
        "n_outputs = 1\n",
        "\n",
        "X = tf.placeholder(tf.float32, [None, n_steps, n_inputs])\n",
        "y = tf.placeholder(tf.float32, [None, n_steps, n_outputs])\n",
        "\n",
        "#cell = tf.contrib.rnn.BasicRNNCell(num_units=n_neurons, activation=tf.nn.relu)\n",
        "cell = tf.contrib.rnn.OutputProjectionWrapper(tf.contrib.rnn.BasicRNNCell(num_units=n_neurons, activation=tf.nn.relu),output_size=n_outputs)\n",
        "outputs, states = tf.nn.dynamic_rnn(cell,X,dtype=tf.float32)\n",
        "\n",
        "learning_rate = 0.001\n",
        "\n",
        "loss = tf.reduce_mean(tf.square(outputs - y))\n",
        "optimizer = tf.train.AdamOptimizer(learning_rate=learning_rate)\n",
        "training_op = optimizer.minimize(loss)\n",
        "\n",
        "init = tf.global_variables_initializer()\n",
        "\n",
        "n_iterations = 10000\n",
        "batch_size = 50\n",
        "\n",
        "with tf.Session() as sess:\n",
        "  init.run()\n",
        "  for iteration in range(n_iterations):\n",
        "    X_batch, y_batch = \n",
        "\n"
      ],
      "execution_count": 0,
      "outputs": []
    },
    {
      "cell_type": "code",
      "metadata": {
        "id": "CIcqJ1VUmgfS",
        "colab_type": "code",
        "outputId": "0a73e4ba-88a9-4994-aa05-d27451f71476",
        "colab": {
          "base_uri": "https://localhost:8080/",
          "height": 370
        }
      },
      "source": [
        "n_steps = 10\n",
        "\n",
        "sequence = [0.] * n_steps\n",
        "for iteration in range(300):\n",
        "  X_batch = np.array(sequence[-n_steps:]).reshape(1, n_steps, 1)\n",
        "  y_pred = sess.run(outputs, feed_dict={X: X_batch})\n",
        "  sequence.append(y_pred[0, -1, 0])"
      ],
      "execution_count": 0,
      "outputs": [
        {
          "output_type": "error",
          "ename": "RuntimeError",
          "evalue": "ignored",
          "traceback": [
            "\u001b[0;31m---------------------------------------------------------------------------\u001b[0m",
            "\u001b[0;31mRuntimeError\u001b[0m                              Traceback (most recent call last)",
            "\u001b[0;32m<ipython-input-57-41c380c2f511>\u001b[0m in \u001b[0;36m<module>\u001b[0;34m()\u001b[0m\n\u001b[1;32m      4\u001b[0m \u001b[0;32mfor\u001b[0m \u001b[0miteration\u001b[0m \u001b[0;32min\u001b[0m \u001b[0mrange\u001b[0m\u001b[0;34m(\u001b[0m\u001b[0;36m300\u001b[0m\u001b[0;34m)\u001b[0m\u001b[0;34m:\u001b[0m\u001b[0;34m\u001b[0m\u001b[0;34m\u001b[0m\u001b[0m\n\u001b[1;32m      5\u001b[0m   \u001b[0mX_batch\u001b[0m \u001b[0;34m=\u001b[0m \u001b[0mnp\u001b[0m\u001b[0;34m.\u001b[0m\u001b[0marray\u001b[0m\u001b[0;34m(\u001b[0m\u001b[0msequence\u001b[0m\u001b[0;34m[\u001b[0m\u001b[0;34m-\u001b[0m\u001b[0mn_steps\u001b[0m\u001b[0;34m:\u001b[0m\u001b[0;34m]\u001b[0m\u001b[0;34m)\u001b[0m\u001b[0;34m.\u001b[0m\u001b[0mreshape\u001b[0m\u001b[0;34m(\u001b[0m\u001b[0;36m1\u001b[0m\u001b[0;34m,\u001b[0m \u001b[0mn_steps\u001b[0m\u001b[0;34m,\u001b[0m \u001b[0;36m1\u001b[0m\u001b[0;34m)\u001b[0m\u001b[0;34m\u001b[0m\u001b[0;34m\u001b[0m\u001b[0m\n\u001b[0;32m----> 6\u001b[0;31m   \u001b[0my_pred\u001b[0m \u001b[0;34m=\u001b[0m \u001b[0msess\u001b[0m\u001b[0;34m.\u001b[0m\u001b[0mrun\u001b[0m\u001b[0;34m(\u001b[0m\u001b[0moutputs\u001b[0m\u001b[0;34m,\u001b[0m \u001b[0mfeed_dict\u001b[0m\u001b[0;34m=\u001b[0m\u001b[0;34m{\u001b[0m\u001b[0mX\u001b[0m\u001b[0;34m:\u001b[0m \u001b[0mX_batch\u001b[0m\u001b[0;34m}\u001b[0m\u001b[0;34m)\u001b[0m\u001b[0;34m\u001b[0m\u001b[0;34m\u001b[0m\u001b[0m\n\u001b[0m\u001b[1;32m      7\u001b[0m   \u001b[0msequence\u001b[0m\u001b[0;34m.\u001b[0m\u001b[0mappend\u001b[0m\u001b[0;34m(\u001b[0m\u001b[0my_pred\u001b[0m\u001b[0;34m[\u001b[0m\u001b[0;36m0\u001b[0m\u001b[0;34m,\u001b[0m \u001b[0;34m-\u001b[0m\u001b[0;36m1\u001b[0m\u001b[0;34m,\u001b[0m \u001b[0;36m0\u001b[0m\u001b[0;34m]\u001b[0m\u001b[0;34m)\u001b[0m\u001b[0;34m\u001b[0m\u001b[0;34m\u001b[0m\u001b[0m\n",
            "\u001b[0;32m/usr/local/lib/python3.6/dist-packages/tensorflow/python/client/session.py\u001b[0m in \u001b[0;36mrun\u001b[0;34m(self, fetches, feed_dict, options, run_metadata)\u001b[0m\n\u001b[1;32m    948\u001b[0m     \u001b[0;32mtry\u001b[0m\u001b[0;34m:\u001b[0m\u001b[0;34m\u001b[0m\u001b[0;34m\u001b[0m\u001b[0m\n\u001b[1;32m    949\u001b[0m       result = self._run(None, fetches, feed_dict, options_ptr,\n\u001b[0;32m--> 950\u001b[0;31m                          run_metadata_ptr)\n\u001b[0m\u001b[1;32m    951\u001b[0m       \u001b[0;32mif\u001b[0m \u001b[0mrun_metadata\u001b[0m\u001b[0;34m:\u001b[0m\u001b[0;34m\u001b[0m\u001b[0;34m\u001b[0m\u001b[0m\n\u001b[1;32m    952\u001b[0m         \u001b[0mproto_data\u001b[0m \u001b[0;34m=\u001b[0m \u001b[0mtf_session\u001b[0m\u001b[0;34m.\u001b[0m\u001b[0mTF_GetBuffer\u001b[0m\u001b[0;34m(\u001b[0m\u001b[0mrun_metadata_ptr\u001b[0m\u001b[0;34m)\u001b[0m\u001b[0;34m\u001b[0m\u001b[0;34m\u001b[0m\u001b[0m\n",
            "\u001b[0;32m/usr/local/lib/python3.6/dist-packages/tensorflow/python/client/session.py\u001b[0m in \u001b[0;36m_run\u001b[0;34m(self, handle, fetches, feed_dict, options, run_metadata)\u001b[0m\n\u001b[1;32m   1094\u001b[0m     \u001b[0;31m# Check session.\u001b[0m\u001b[0;34m\u001b[0m\u001b[0;34m\u001b[0m\u001b[0;34m\u001b[0m\u001b[0m\n\u001b[1;32m   1095\u001b[0m     \u001b[0;32mif\u001b[0m \u001b[0mself\u001b[0m\u001b[0;34m.\u001b[0m\u001b[0m_closed\u001b[0m\u001b[0;34m:\u001b[0m\u001b[0;34m\u001b[0m\u001b[0;34m\u001b[0m\u001b[0m\n\u001b[0;32m-> 1096\u001b[0;31m       \u001b[0;32mraise\u001b[0m \u001b[0mRuntimeError\u001b[0m\u001b[0;34m(\u001b[0m\u001b[0;34m'Attempted to use a closed Session.'\u001b[0m\u001b[0;34m)\u001b[0m\u001b[0;34m\u001b[0m\u001b[0;34m\u001b[0m\u001b[0m\n\u001b[0m\u001b[1;32m   1097\u001b[0m     \u001b[0;32mif\u001b[0m \u001b[0mself\u001b[0m\u001b[0;34m.\u001b[0m\u001b[0mgraph\u001b[0m\u001b[0;34m.\u001b[0m\u001b[0mversion\u001b[0m \u001b[0;34m==\u001b[0m \u001b[0;36m0\u001b[0m\u001b[0;34m:\u001b[0m\u001b[0;34m\u001b[0m\u001b[0;34m\u001b[0m\u001b[0m\n\u001b[1;32m   1098\u001b[0m       raise RuntimeError('The Session graph is empty.  Add operations to the '\n",
            "\u001b[0;31mRuntimeError\u001b[0m: Attempted to use a closed Session."
          ]
        }
      ]
    }
  ]
}