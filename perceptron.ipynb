{
  "nbformat": 4,
  "nbformat_minor": 0,
  "metadata": {
    "colab": {
      "name": "perceptron.ipynb",
      "provenance": [],
      "collapsed_sections": [],
      "authorship_tag": "ABX9TyO8qBfq9bB/lp2QPaNgYXqK",
      "include_colab_link": true
    },
    "kernelspec": {
      "name": "python3",
      "display_name": "Python 3"
    }
  },
  "cells": [
    {
      "cell_type": "markdown",
      "metadata": {
        "id": "view-in-github",
        "colab_type": "text"
      },
      "source": [
        "<a href=\"https://colab.research.google.com/github/satyamsingh1004/ML/blob/master/perceptron.ipynb\" target=\"_parent\"><img src=\"https://colab.research.google.com/assets/colab-badge.svg\" alt=\"Open In Colab\"/></a>"
      ]
    },
    {
      "cell_type": "code",
      "metadata": {
        "id": "fEf4qZzVW2hS"
      },
      "source": [
        "import numpy as np\n",
        "\n",
        "import matplotlib.pyplot as plt\n"
      ],
      "execution_count": 22,
      "outputs": []
    },
    {
      "cell_type": "code",
      "metadata": {
        "id": "Yw_4doGsXUGV"
      },
      "source": [
        "data = np.array([(-1,-1),(-5,-2.5),(-7.5,7.5),(10,7.5),(-2.5,12.5),(5, 10), (5, 5)])\n",
        "output = np.array([0,0,0,1,0,1, 1])\n",
        "\n",
        "positive_data = np.array([(10,7.5),(5, 10), (5, 5)])\n",
        "positive_output = np.array([1,1, 1])\n",
        "positive_x, positive_y = positive_data.T\n",
        "\n",
        "negative_data = np.array([(-1,-1),(-5,-2.5),(-7.5,7.5),(-2.5,12.5)])\n",
        "negative_output = np.array([0,0,0,0])\n",
        "negative_x, negative_y = negative_data.T"
      ],
      "execution_count": 23,
      "outputs": []
    },
    {
      "cell_type": "code",
      "metadata": {
        "id": "CiLefOP9eBWm",
        "outputId": "d15ddfb0-438d-4f05-9663-84abbf097244",
        "colab": {
          "base_uri": "https://localhost:8080/",
          "height": 287
        }
      },
      "source": [
        "plt.xlim(-30,30)\n",
        "plt.ylim(-30,30)\n",
        "plt.scatter(positive_x,positive_y,color='green')\n",
        "plt.scatter(negative_x,negative_y,color='red')\n",
        "x1 = np.linspace(-30.,30.)\n",
        "plt.plot(x1, 5 - x1, color='k', linestyle='-', linewidth=2)\n",
        "\n",
        "plt.plot()"
      ],
      "execution_count": 24,
      "outputs": [
        {
          "output_type": "execute_result",
          "data": {
            "text/plain": [
              "[]"
            ]
          },
          "metadata": {
            "tags": []
          },
          "execution_count": 24
        },
        {
          "output_type": "display_data",
          "data": {
            "image/png": "[encoded data removed]",
            "text/plain": [
              "<Figure size 432x288 with 1 Axes>"
            ]
          },
          "metadata": {
            "tags": [],
            "needs_background": "light"
          }
        }
      ]
    },
    {
      "cell_type": "code",
      "metadata": {
        "id": "5QH03zmegfXo",
        "outputId": "5923bb80-2403-4036-d4b9-fa13130acacd",
        "colab": {
          "base_uri": "https://localhost:8080/",
          "height": 556
        }
      },
      "source": [
        "w1 = 3\n",
        "w2 = -10\n",
        "w0 = -5\n",
        "# w1x1 + w2x2 + w0 * 1 =  0\n",
        "\n",
        "error = True\n",
        "\n",
        "while(error): \n",
        "  error = False\n",
        "  print(\"Starting over the data...\")\n",
        "  plt.figure()\n",
        "  plt.xlim(-30,30)\n",
        "  plt.ylim(-30,30)\n",
        "  plt.scatter(positive_x,positive_y,color='green')\n",
        "  plt.scatter(negative_x,negative_y,color='red')\n",
        "  x1 = np.linspace(-30.,30.)\n",
        "  plt.plot(x1, (-w0 - (w1 * x1))/w2, color='k', linestyle='-', linewidth=2)\n",
        "  plt.show()\n",
        "\n",
        "  for i,(p, o) in enumerate(zip(data,output)):\n",
        "    if o == 0 and ((w1 * p[0]) + (w2 * p[1]) + (w0 * 1) > 0):\n",
        "      w1 = w1 - p[0]\n",
        "      w2 = w2 - p[1]\n",
        "      w0 = w0 - 1 \n",
        "\n",
        "      error = True\n",
        "    elif o == 1 and ((w1 * p[0]) + (w2 * p[1]) + (w0 * 1) < 0):\n",
        "      w1 = w1 + p[0]\n",
        "      w2 = w2 + p[1]\n",
        "      w0 = w0 + 1\n",
        "      error = True\n",
        "  "
      ],
      "execution_count": 33,
      "outputs": [
        {
          "output_type": "stream",
          "text": [
            "Starting over the data...\n"
          ],
          "name": "stdout"
        },
        {
          "output_type": "display_data",
          "data": {
            "image/png": "[encoded data removed]",
            "text/plain": [
              "<Figure size 432x288 with 1 Axes>"
            ]
          },
          "metadata": {
            "tags": [],
            "needs_background": "light"
          }
        },
        {
          "output_type": "stream",
          "text": [
            "Starting over the data...\n"
          ],
          "name": "stdout"
        },
        {
          "output_type": "display_data",
          "data": {
            "image/png": "[encoded data removed]",
            "text/plain": [
              "<Figure size 432x288 with 1 Axes>"
            ]
          },
          "metadata": {
            "tags": [],
            "needs_background": "light"
          }
        }
      ]
    },
    {
      "cell_type": "code",
      "metadata": {
        "id": "8xV1-pnHyyEI",
        "outputId": "2f6a5c06-ace3-47bf-9d35-411f042b861b",
        "colab": {
          "base_uri": "https://localhost:8080/",
          "height": 287
        }
      },
      "source": [
        "plt.xlim(-20,20)\n",
        "plt.ylim(-20,20)\n",
        "plt.scatter(positive_x,positive_y,color='green')\n",
        "plt.scatter(negative_x,negative_y,color='red')\n",
        "x1 = np.linspace(-20.,20.)\n",
        "plt.plot(x1, (-w0 - (w1 * x1))/w2, color='k', linestyle='-', linewidth=2)\n",
        "\n",
        "plt.plot()"
      ],
      "execution_count": 26,
      "outputs": [
        {
          "output_type": "execute_result",
          "data": {
            "text/plain": [
              "[]"
            ]
          },
          "metadata": {
            "tags": []
          },
          "execution_count": 26
        },
        {
          "output_type": "display_data",
          "data": {
            "image/png": "[encoded data removed]",
            "text/plain": [
              "<Figure size 432x288 with 1 Axes>"
            ]
          },
          "metadata": {
            "tags": [],
            "needs_background": "light"
          }
        }
      ]
    }
  ]
}