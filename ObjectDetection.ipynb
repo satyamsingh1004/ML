{
  "nbformat": 4,
  "nbformat_minor": 0,
  "metadata": {
    "colab": {
      "name": "ObjectDetection.ipynb",
      "version": "0.3.2",
      "provenance": [],
      "collapsed_sections": [],
      "include_colab_link": true
    },
    "kernelspec": {
      "name": "python3",
      "display_name": "Python 3"
    },
    "accelerator": "GPU"
  },
  "cells": [
    {
      "cell_type": "markdown",
      "metadata": {
        "id": "view-in-github",
        "colab_type": "text"
      },
      "source": [
        "<a href=\"https://colab.research.google.com/github/satyamsingh1004/ML/blob/master/ObjectDetection.ipynb\" target=\"_parent\"><img src=\"https://colab.research.google.com/assets/colab-badge.svg\" alt=\"Open In Colab\"/></a>"
      ]
    },
    {
      "cell_type": "code",
      "metadata": {
        "id": "MZt0F4Npf19y",
        "colab_type": "code",
        "colab": {}
      },
      "source": [
        "from torch.utils.data import Dataset, DataLoader\n",
        "from torchvision import transforms\n",
        "\n",
        "import os\n",
        "from zipfile import ZipFile \n",
        "from PIL import Image"
      ],
      "execution_count": 0,
      "outputs": []
    },
    {
      "cell_type": "code",
      "metadata": {
        "id": "Ag6h0s7LgU62",
        "colab_type": "code",
        "colab": {}
      },
      "source": [
        "zip_path = 'OD_Dataset.zip'\n",
        "image_path = 'Image'\n",
        "annotation_path = 'Annotation'"
      ],
      "execution_count": 0,
      "outputs": []
    },
    {
      "cell_type": "code",
      "metadata": {
        "id": "crsGASz9f2iN",
        "colab_type": "code",
        "colab": {}
      },
      "source": [
        "class ObjectDetectionDataLoader(Dataset):\n",
        "  \n",
        "  def __init__(self,zip_path, image_path, annotation_path, transform):\n",
        "    self.zip_path = zip_path\n",
        "    self.image_path = image_path\n",
        "    self.annotation_path = annotation_path\n",
        "    self.transform = transform\n",
        "    self.imageFiles, self.annotationsFiles = self.getFileNames()\n",
        "  \n",
        "  def __getitem__(self,idx):\n",
        "    image_name = self.imageFiles[idx]\n",
        "    \n",
        "    with ZipFile(self.zip_path, 'r') as zipObj:\n",
        "      with zipObj.open(image_name) as file:\n",
        "            img = Image.open(file)\n",
        "            print(img.size, img.mode, len(img.getdata()))\n",
        "  \n",
        "  def __len__(self):\n",
        "    return len(self.files)\n",
        "  \n",
        "  def getFileNames(self):\n",
        "     with ZipFile(self.zip_path, 'r') as zipObj:\n",
        "      return [file for file in zipObj.namelist() if file.startswith(image_path)],[file for file in zipObj.namelist() if file.startswith(annotation_path)]\n",
        "    \n",
        "  \n",
        "  "
      ],
      "execution_count": 0,
      "outputs": []
    },
    {
      "cell_type": "code",
      "metadata": {
        "id": "3bvIAs9WgoWW",
        "colab_type": "code",
        "colab": {}
      },
      "source": [
        "transform = transforms.Compose([\n",
        "    transforms.ToTensor(),\n",
        "    transforms.Normalize([0.5,0.5,0.5], [0.5,0.5,0.5]) \n",
        "])"
      ],
      "execution_count": 0,
      "outputs": []
    },
    {
      "cell_type": "code",
      "metadata": {
        "id": "QnZRDN5uhAR3",
        "colab_type": "code",
        "colab": {}
      },
      "source": [
        "image_dataloader = ObjectDetectionDataLoader(zip_path, image_path, annotation_path, transform)"
      ],
      "execution_count": 0,
      "outputs": []
    },
    {
      "cell_type": "code",
      "metadata": {
        "id": "pPM1to_GKxXu",
        "colab_type": "code",
        "colab": {
          "base_uri": "https://localhost:8080/",
          "height": 34
        },
        "outputId": "56b643df-cb8f-4bc9-9ab9-c9126938f302"
      },
      "source": [
        "image_dataloader[10]"
      ],
      "execution_count": 251,
      "outputs": [
        {
          "output_type": "stream",
          "text": [
            "(800, 448) RGB 358400\n"
          ],
          "name": "stdout"
        }
      ]
    }
  ]
}