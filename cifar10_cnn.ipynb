{
  "nbformat": 4,
  "nbformat_minor": 0,
  "metadata": {
    "colab": {
      "name": "cifar10_cnn.ipynb",
      "version": "0.3.2",
      "provenance": [],
      "collapsed_sections": [],
      "include_colab_link": true
    },
    "kernelspec": {
      "name": "python3",
      "display_name": "Python 3"
    },
    "accelerator": "GPU"
  },
  "cells": [
    {
      "cell_type": "markdown",
      "metadata": {
        "id": "view-in-github",
        "colab_type": "text"
      },
      "source": [
        "<a href=\"https://colab.research.google.com/github/satyamsingh1004/ML/blob/master/cifar10_cnn.ipynb\" target=\"_parent\"><img src=\"https://colab.research.google.com/assets/colab-badge.svg\" alt=\"Open In Colab\"/></a>"
      ]
    },
    {
      "cell_type": "code",
      "metadata": {
        "id": "HvrTVFA12YQG",
        "colab_type": "code",
        "colab": {}
      },
      "source": [
        "# Reference- https://github.com/keras-team/keras/blob/master/examples/cifar10_cnn.py\n",
        "\n",
        "from tensorflow.keras.datasets import cifar10\n",
        "from tensorflow.keras.models import Sequential\n",
        "from tensorflow.keras.layers import Conv2D, Activation, MaxPooling2D, Dropout, Flatten, Dense\n",
        "from tensorflow.keras.optimizers import RMSprop\n",
        "from tensorflow.keras.utils import to_categorical\n",
        "from tensorflow.keras.preprocessing.image import ImageDataGenerator\n",
        "\n",
        "import matplotlib.pyplot as plt\n",
        "\n",
        "import os"
      ],
      "execution_count": 0,
      "outputs": []
    },
    {
      "cell_type": "code",
      "metadata": {
        "id": "WTEVS2lY3KA7",
        "colab_type": "code",
        "colab": {}
      },
      "source": [
        "(x_train, y_train), (x_test, y_test) = cifar10.load_data()"
      ],
      "execution_count": 0,
      "outputs": []
    },
    {
      "cell_type": "code",
      "metadata": {
        "id": "QBLTdQlo-UDy",
        "colab_type": "code",
        "outputId": "ee110a58-5def-4dbd-c242-026349e27e6b",
        "colab": {
          "base_uri": "https://localhost:8080/",
          "height": 34
        }
      },
      "source": [
        "print(x_train[0].shape,x_train.shape[1:])"
      ],
      "execution_count": 3,
      "outputs": [
        {
          "output_type": "stream",
          "text": [
            "(32, 32, 3) (32, 32, 3)\n"
          ],
          "name": "stdout"
        }
      ]
    },
    {
      "cell_type": "code",
      "metadata": {
        "id": "pDLBXunl650t",
        "colab_type": "code",
        "outputId": "74cbbb3b-213e-45da-9744-9c75e9008ae7",
        "colab": {
          "base_uri": "https://localhost:8080/",
          "height": 107
        }
      },
      "source": [
        "num_classes = 10\n",
        "batch_size = 512\n",
        "epochs = 100\n",
        "data_augmentation = True\n",
        "save_dir = os.path.join(os.getcwd(), 'saved_models')\n",
        "model_name = 'keras_cifar10_trained_model.h5'\n",
        "\n",
        "model = Sequential([\n",
        "    Conv2D(32, (3, 3), padding='same', input_shape=x_train.shape[1:]),\n",
        "    Activation('relu'),\n",
        "    Conv2D(32, (3, 3)),\n",
        "    Activation('relu'),\n",
        "    MaxPooling2D(pool_size=(2, 2)),\n",
        "    Dropout(0.25),\n",
        "    \n",
        "    Conv2D(64, (3, 3), padding='same'),\n",
        "    Activation('relu'),\n",
        "    Conv2D(64, (3, 3)),\n",
        "    Activation('relu'),\n",
        "    MaxPooling2D(pool_size=(2, 2)),\n",
        "    Dropout(0.25),\n",
        "    \n",
        "    Flatten(),\n",
        "    Dense(512),\n",
        "    Activation('relu'),\n",
        "    Dropout(0.5),\n",
        "    Dense(num_classes),\n",
        "    Activation('softmax')\n",
        "])"
      ],
      "execution_count": 4,
      "outputs": [
        {
          "output_type": "stream",
          "text": [
            "WARNING: Logging before flag parsing goes to stderr.\n",
            "W0821 10:02:33.929579 140169461675904 deprecation.py:506] From /usr/local/lib/python3.6/dist-packages/tensorflow/python/ops/init_ops.py:1251: calling VarianceScaling.__init__ (from tensorflow.python.ops.init_ops) with dtype is deprecated and will be removed in a future version.\n",
            "Instructions for updating:\n",
            "Call initializer instance with the dtype argument instead of passing it to the constructor\n"
          ],
          "name": "stderr"
        }
      ]
    },
    {
      "cell_type": "code",
      "metadata": {
        "id": "aEYHGg7-BBSv",
        "colab_type": "code",
        "colab": {}
      },
      "source": [
        "model.compile(optimizer= RMSprop(lr=0.001, decay=1e-6), \n",
        "             loss = 'categorical_crossentropy',\n",
        "             metrics = ['accuracy'])"
      ],
      "execution_count": 0,
      "outputs": []
    },
    {
      "cell_type": "code",
      "metadata": {
        "id": "A82pJM_cWZb1",
        "colab_type": "code",
        "colab": {}
      },
      "source": [
        "x_train = x_train.astype('float32')\n",
        "x_test = x_test.astype('float32')\n",
        "x_train /= 255\n",
        "x_test /= 255\n",
        "\n",
        "y_train = to_categorical(y_train)\n",
        "y_test = to_categorical(y_test)"
      ],
      "execution_count": 0,
      "outputs": []
    },
    {
      "cell_type": "code",
      "metadata": {
        "id": "l58HydIoBb12",
        "colab_type": "code",
        "outputId": "657624c5-50a4-447f-a295-bfa8cb609d9a",
        "colab": {
          "base_uri": "https://localhost:8080/",
          "height": 1000
        }
      },
      "source": [
        "\n",
        "if not data_augmentation:\n",
        "    print('Not using data augmentation.')\n",
        "    history = model.fit(x_train, y_train,\n",
        "              batch_size=batch_size,\n",
        "              epochs=epochs,\n",
        "              validation_data=(x_test, y_test),\n",
        "              shuffle=True)\n",
        "else:\n",
        "    print('Using real-time data augmentation.')\n",
        "    # This will do preprocessing and realtime data augmentation:\n",
        "    datagen = ImageDataGenerator(\n",
        "        featurewise_center=False,  # set input mean to 0 over the dataset\n",
        "        samplewise_center=False,  # set each sample mean to 0\n",
        "        featurewise_std_normalization=False,  # divide inputs by std of the dataset\n",
        "        samplewise_std_normalization=False,  # divide each input by its std\n",
        "        zca_whitening=False,  # apply ZCA whitening\n",
        "        zca_epsilon=1e-06,  # epsilon for ZCA whitening\n",
        "        rotation_range=0,  # randomly rotate images in the range (degrees, 0 to 180)\n",
        "        # randomly shift images horizontally (fraction of total width)\n",
        "        width_shift_range=0.1,\n",
        "        # randomly shift images vertically (fraction of total height)\n",
        "        height_shift_range=0.1,\n",
        "        shear_range=0.,  # set range for random shear\n",
        "        zoom_range=0.,  # set range for random zoom\n",
        "        channel_shift_range=0.,  # set range for random channel shifts\n",
        "        # set mode for filling points outside the input boundaries\n",
        "        fill_mode='nearest',\n",
        "        cval=0.,  # value used for fill_mode = \"constant\"\n",
        "        horizontal_flip=True,  # randomly flip images\n",
        "        vertical_flip=False,  # randomly flip images\n",
        "        # set rescaling factor (applied before any other transformation)\n",
        "        rescale=None,\n",
        "        # set function that will be applied on each input\n",
        "        preprocessing_function=None,\n",
        "        # image data format, either \"channels_first\" or \"channels_last\"\n",
        "        data_format=None,\n",
        "        # fraction of images reserved for validation (strictly between 0 and 1)\n",
        "        validation_split=0.0)\n",
        "\n",
        "    # Compute quantities required for feature-wise normalization\n",
        "    # (std, mean, and principal components if ZCA whitening is applied).\n",
        "    datagen.fit(x_train)\n",
        "\n",
        "    # Fit the model on the batches generated by datagen.flow().\n",
        "    history = model.fit_generator(datagen.flow(x_train, y_train,\n",
        "                                     batch_size=batch_size),\n",
        "                        epochs=epochs,\n",
        "                        validation_data=(x_test, y_test),\n",
        "                        workers=1)\n"
      ],
      "execution_count": 7,
      "outputs": [
        {
          "output_type": "stream",
          "text": [
            "Using real-time data augmentation.\n",
            "Epoch 1/100\n",
            "98/98 [==============================] - 20s 199ms/step - loss: 2.0927 - acc: 0.2396 - val_loss: 1.6608 - val_acc: 0.4091\n",
            "Epoch 2/100\n",
            "98/98 [==============================] - 17s 176ms/step - loss: 1.7670 - acc: 0.3651 - val_loss: 1.4573 - val_acc: 0.4774\n",
            "Epoch 3/100\n",
            "98/98 [==============================] - 17s 175ms/step - loss: 1.5876 - acc: 0.4307 - val_loss: 1.3331 - val_acc: 0.5168\n",
            "Epoch 4/100\n",
            "98/98 [==============================] - 17s 176ms/step - loss: 1.4706 - acc: 0.4734 - val_loss: 1.4290 - val_acc: 0.4892\n",
            "Epoch 5/100\n",
            "98/98 [==============================] - 17s 176ms/step - loss: 1.3836 - acc: 0.5085 - val_loss: 1.1755 - val_acc: 0.5838\n",
            "Epoch 6/100\n",
            "98/98 [==============================] - 17s 177ms/step - loss: 1.3086 - acc: 0.5351 - val_loss: 1.2254 - val_acc: 0.5798\n",
            "Epoch 7/100\n",
            "98/98 [==============================] - 17s 176ms/step - loss: 1.2420 - acc: 0.5591 - val_loss: 1.1618 - val_acc: 0.5801\n",
            "Epoch 8/100\n",
            "98/98 [==============================] - 17s 176ms/step - loss: 1.1896 - acc: 0.5803 - val_loss: 1.0253 - val_acc: 0.6464\n",
            "Epoch 9/100\n",
            "98/98 [==============================] - 17s 177ms/step - loss: 1.1401 - acc: 0.5985 - val_loss: 0.9223 - val_acc: 0.6796\n",
            "Epoch 10/100\n",
            "98/98 [==============================] - 17s 175ms/step - loss: 1.0878 - acc: 0.6188 - val_loss: 0.9795 - val_acc: 0.6624\n",
            "Epoch 11/100\n",
            "98/98 [==============================] - 17s 175ms/step - loss: 1.0518 - acc: 0.6314 - val_loss: 0.9436 - val_acc: 0.6744\n",
            "Epoch 12/100\n",
            "98/98 [==============================] - 17s 175ms/step - loss: 1.0194 - acc: 0.6415 - val_loss: 0.8076 - val_acc: 0.7229\n",
            "Epoch 13/100\n",
            "98/98 [==============================] - 17s 178ms/step - loss: 0.9899 - acc: 0.6546 - val_loss: 0.8465 - val_acc: 0.7081\n",
            "Epoch 14/100\n",
            "98/98 [==============================] - 17s 176ms/step - loss: 0.9611 - acc: 0.6648 - val_loss: 0.8512 - val_acc: 0.7074\n",
            "Epoch 15/100\n",
            "98/98 [==============================] - 17s 176ms/step - loss: 0.9281 - acc: 0.6750 - val_loss: 0.9305 - val_acc: 0.6875\n",
            "Epoch 16/100\n",
            "98/98 [==============================] - 17s 175ms/step - loss: 0.9089 - acc: 0.6836 - val_loss: 0.8336 - val_acc: 0.7139\n",
            "Epoch 17/100\n",
            "98/98 [==============================] - 17s 175ms/step - loss: 0.8903 - acc: 0.6922 - val_loss: 0.7285 - val_acc: 0.7511\n",
            "Epoch 18/100\n",
            "98/98 [==============================] - 17s 177ms/step - loss: 0.8725 - acc: 0.6961 - val_loss: 0.8021 - val_acc: 0.7195\n",
            "Epoch 19/100\n",
            "98/98 [==============================] - 17s 176ms/step - loss: 0.8554 - acc: 0.7026 - val_loss: 0.6961 - val_acc: 0.7615\n",
            "Epoch 20/100\n",
            "98/98 [==============================] - 17s 176ms/step - loss: 0.8334 - acc: 0.7112 - val_loss: 0.6705 - val_acc: 0.7679\n",
            "Epoch 21/100\n",
            "98/98 [==============================] - 17s 176ms/step - loss: 0.8183 - acc: 0.7157 - val_loss: 0.7111 - val_acc: 0.7569\n",
            "Epoch 22/100\n",
            "98/98 [==============================] - 17s 177ms/step - loss: 0.8076 - acc: 0.7190 - val_loss: 0.7131 - val_acc: 0.7530\n",
            "Epoch 23/100\n",
            "98/98 [==============================] - 17s 176ms/step - loss: 0.7909 - acc: 0.7269 - val_loss: 0.6743 - val_acc: 0.7685\n",
            "Epoch 24/100\n",
            "98/98 [==============================] - 17s 175ms/step - loss: 0.7770 - acc: 0.7308 - val_loss: 0.6609 - val_acc: 0.7775\n",
            "Epoch 25/100\n",
            "98/98 [==============================] - 17s 175ms/step - loss: 0.7711 - acc: 0.7327 - val_loss: 0.7036 - val_acc: 0.7559\n",
            "Epoch 26/100\n",
            "98/98 [==============================] - 17s 177ms/step - loss: 0.7615 - acc: 0.7344 - val_loss: 0.6293 - val_acc: 0.7847\n",
            "Epoch 27/100\n",
            "98/98 [==============================] - 17s 177ms/step - loss: 0.7487 - acc: 0.7408 - val_loss: 0.6537 - val_acc: 0.7749\n",
            "Epoch 28/100\n",
            "98/98 [==============================] - 17s 175ms/step - loss: 0.7379 - acc: 0.7453 - val_loss: 0.7064 - val_acc: 0.7639\n",
            "Epoch 29/100\n",
            "98/98 [==============================] - 17s 176ms/step - loss: 0.7283 - acc: 0.7491 - val_loss: 0.5905 - val_acc: 0.8022\n",
            "Epoch 30/100\n",
            "98/98 [==============================] - 17s 175ms/step - loss: 0.7231 - acc: 0.7494 - val_loss: 0.6515 - val_acc: 0.7778\n",
            "Epoch 31/100\n",
            "98/98 [==============================] - 17s 177ms/step - loss: 0.7134 - acc: 0.7560 - val_loss: 0.6366 - val_acc: 0.7853\n",
            "Epoch 32/100\n",
            "98/98 [==============================] - 17s 176ms/step - loss: 0.6995 - acc: 0.7586 - val_loss: 0.6738 - val_acc: 0.7678\n",
            "Epoch 33/100\n",
            "98/98 [==============================] - 17s 175ms/step - loss: 0.6934 - acc: 0.7594 - val_loss: 0.5776 - val_acc: 0.8070\n",
            "Epoch 34/100\n",
            "98/98 [==============================] - 17s 176ms/step - loss: 0.6854 - acc: 0.7625 - val_loss: 0.6096 - val_acc: 0.7938\n",
            "Epoch 35/100\n",
            "98/98 [==============================] - 17s 176ms/step - loss: 0.6865 - acc: 0.7610 - val_loss: 0.6547 - val_acc: 0.7777\n",
            "Epoch 36/100\n",
            "98/98 [==============================] - 17s 176ms/step - loss: 0.6792 - acc: 0.7642 - val_loss: 0.6145 - val_acc: 0.7897\n",
            "Epoch 37/100\n",
            "98/98 [==============================] - 17s 177ms/step - loss: 0.6708 - acc: 0.7694 - val_loss: 0.5795 - val_acc: 0.8022\n",
            "Epoch 38/100\n",
            "98/98 [==============================] - 17s 176ms/step - loss: 0.6653 - acc: 0.7674 - val_loss: 0.5768 - val_acc: 0.8050\n",
            "Epoch 39/100\n",
            "98/98 [==============================] - 17s 178ms/step - loss: 0.6598 - acc: 0.7699 - val_loss: 0.6747 - val_acc: 0.7753\n",
            "Epoch 40/100\n",
            "98/98 [==============================] - 17s 178ms/step - loss: 0.6501 - acc: 0.7758 - val_loss: 0.6026 - val_acc: 0.7920\n",
            "Epoch 41/100\n",
            "98/98 [==============================] - 17s 178ms/step - loss: 0.6529 - acc: 0.7744 - val_loss: 0.6093 - val_acc: 0.7971\n",
            "Epoch 42/100\n",
            "98/98 [==============================] - 17s 178ms/step - loss: 0.6441 - acc: 0.7759 - val_loss: 0.5998 - val_acc: 0.7978\n",
            "Epoch 43/100\n",
            "98/98 [==============================] - 17s 177ms/step - loss: 0.6433 - acc: 0.7762 - val_loss: 0.6276 - val_acc: 0.7890\n",
            "Epoch 44/100\n",
            "98/98 [==============================] - 17s 178ms/step - loss: 0.6380 - acc: 0.7773 - val_loss: 0.5608 - val_acc: 0.8136\n",
            "Epoch 45/100\n",
            "98/98 [==============================] - 17s 177ms/step - loss: 0.6363 - acc: 0.7801 - val_loss: 0.5789 - val_acc: 0.8062\n",
            "Epoch 46/100\n",
            "98/98 [==============================] - 17s 177ms/step - loss: 0.6256 - acc: 0.7829 - val_loss: 0.6193 - val_acc: 0.7920\n",
            "Epoch 47/100\n",
            "98/98 [==============================] - 17s 175ms/step - loss: 0.6243 - acc: 0.7830 - val_loss: 0.5782 - val_acc: 0.8023\n",
            "Epoch 48/100\n",
            "98/98 [==============================] - 17s 178ms/step - loss: 0.6202 - acc: 0.7846 - val_loss: 0.5640 - val_acc: 0.8069\n",
            "Epoch 49/100\n",
            "98/98 [==============================] - 17s 178ms/step - loss: 0.6205 - acc: 0.7853 - val_loss: 0.5453 - val_acc: 0.8207\n",
            "Epoch 50/100\n",
            "98/98 [==============================] - 17s 176ms/step - loss: 0.6101 - acc: 0.7878 - val_loss: 0.5465 - val_acc: 0.8183\n",
            "Epoch 51/100\n",
            "98/98 [==============================] - 17s 177ms/step - loss: 0.6056 - acc: 0.7901 - val_loss: 0.6466 - val_acc: 0.7861\n",
            "Epoch 52/100\n",
            "98/98 [==============================] - 17s 174ms/step - loss: 0.6066 - acc: 0.7910 - val_loss: 0.6185 - val_acc: 0.7926\n",
            "Epoch 53/100\n",
            "98/98 [==============================] - 17s 176ms/step - loss: 0.6019 - acc: 0.7915 - val_loss: 0.5200 - val_acc: 0.8296\n",
            "Epoch 54/100\n",
            "98/98 [==============================] - 17s 176ms/step - loss: 0.5986 - acc: 0.7909 - val_loss: 0.5612 - val_acc: 0.8144\n",
            "Epoch 55/100\n",
            "98/98 [==============================] - 17s 177ms/step - loss: 0.5943 - acc: 0.7951 - val_loss: 0.5731 - val_acc: 0.8075\n",
            "Epoch 56/100\n",
            "98/98 [==============================] - 17s 176ms/step - loss: 0.5942 - acc: 0.7927 - val_loss: 0.5527 - val_acc: 0.8192\n",
            "Epoch 57/100\n",
            "98/98 [==============================] - 17s 176ms/step - loss: 0.5899 - acc: 0.7960 - val_loss: 0.5685 - val_acc: 0.8095\n",
            "Epoch 58/100\n",
            "98/98 [==============================] - 17s 176ms/step - loss: 0.5854 - acc: 0.7990 - val_loss: 0.5724 - val_acc: 0.8128\n",
            "Epoch 59/100\n",
            "98/98 [==============================] - 17s 176ms/step - loss: 0.5845 - acc: 0.7974 - val_loss: 0.5628 - val_acc: 0.8121\n",
            "Epoch 60/100\n",
            "98/98 [==============================] - 17s 178ms/step - loss: 0.5816 - acc: 0.7989 - val_loss: 0.6086 - val_acc: 0.8057\n",
            "Epoch 61/100\n",
            "98/98 [==============================] - 17s 176ms/step - loss: 0.5783 - acc: 0.8006 - val_loss: 0.5620 - val_acc: 0.8190\n",
            "Epoch 62/100\n",
            "98/98 [==============================] - 17s 177ms/step - loss: 0.5813 - acc: 0.8001 - val_loss: 0.5775 - val_acc: 0.8132\n",
            "Epoch 63/100\n",
            "98/98 [==============================] - 17s 177ms/step - loss: 0.5752 - acc: 0.8041 - val_loss: 0.5657 - val_acc: 0.8151\n",
            "Epoch 64/100\n",
            "98/98 [==============================] - 17s 176ms/step - loss: 0.5786 - acc: 0.8012 - val_loss: 0.5763 - val_acc: 0.8085\n",
            "Epoch 65/100\n",
            "98/98 [==============================] - 17s 175ms/step - loss: 0.5746 - acc: 0.8010 - val_loss: 0.5184 - val_acc: 0.8309\n",
            "Epoch 66/100\n",
            "98/98 [==============================] - 17s 176ms/step - loss: 0.5677 - acc: 0.8031 - val_loss: 0.5229 - val_acc: 0.8280\n",
            "Epoch 67/100\n",
            "98/98 [==============================] - 17s 176ms/step - loss: 0.5732 - acc: 0.8022 - val_loss: 0.5166 - val_acc: 0.8309\n",
            "Epoch 68/100\n",
            "98/98 [==============================] - 17s 175ms/step - loss: 0.5714 - acc: 0.8046 - val_loss: 0.5418 - val_acc: 0.8189\n",
            "Epoch 69/100\n",
            "98/98 [==============================] - 17s 176ms/step - loss: 0.5661 - acc: 0.8055 - val_loss: 0.5416 - val_acc: 0.8210\n",
            "Epoch 70/100\n",
            "98/98 [==============================] - 17s 174ms/step - loss: 0.5572 - acc: 0.8058 - val_loss: 0.5477 - val_acc: 0.8177\n",
            "Epoch 71/100\n",
            "98/98 [==============================] - 17s 173ms/step - loss: 0.5633 - acc: 0.8063 - val_loss: 0.5155 - val_acc: 0.8303\n",
            "Epoch 72/100\n",
            "98/98 [==============================] - 17s 173ms/step - loss: 0.5588 - acc: 0.8060 - val_loss: 0.5210 - val_acc: 0.8284\n",
            "Epoch 73/100\n",
            "98/98 [==============================] - 17s 175ms/step - loss: 0.5564 - acc: 0.8080 - val_loss: 0.5121 - val_acc: 0.8345\n",
            "Epoch 74/100\n",
            "98/98 [==============================] - 17s 176ms/step - loss: 0.5599 - acc: 0.8089 - val_loss: 0.5245 - val_acc: 0.8297\n",
            "Epoch 75/100\n",
            "98/98 [==============================] - 17s 175ms/step - loss: 0.5562 - acc: 0.8103 - val_loss: 0.5214 - val_acc: 0.8337\n",
            "Epoch 76/100\n",
            "98/98 [==============================] - 17s 173ms/step - loss: 0.5557 - acc: 0.8095 - val_loss: 0.5125 - val_acc: 0.8315\n",
            "Epoch 77/100\n",
            "98/98 [==============================] - 17s 175ms/step - loss: 0.5510 - acc: 0.8100 - val_loss: 0.6602 - val_acc: 0.7906\n",
            "Epoch 78/100\n",
            "98/98 [==============================] - 17s 176ms/step - loss: 0.5521 - acc: 0.8094 - val_loss: 0.5424 - val_acc: 0.8301\n",
            "Epoch 79/100\n",
            "98/98 [==============================] - 17s 178ms/step - loss: 0.5544 - acc: 0.8095 - val_loss: 0.5295 - val_acc: 0.8287\n",
            "Epoch 80/100\n",
            "98/98 [==============================] - 17s 175ms/step - loss: 0.5574 - acc: 0.8088 - val_loss: 0.5452 - val_acc: 0.8292\n",
            "Epoch 81/100\n",
            "98/98 [==============================] - 17s 178ms/step - loss: 0.5496 - acc: 0.8112 - val_loss: 0.5805 - val_acc: 0.8126\n",
            "Epoch 82/100\n",
            "98/98 [==============================] - 17s 175ms/step - loss: 0.5497 - acc: 0.8108 - val_loss: 0.5622 - val_acc: 0.8205\n",
            "Epoch 83/100\n",
            "98/98 [==============================] - 17s 176ms/step - loss: 0.5495 - acc: 0.8110 - val_loss: 0.4823 - val_acc: 0.8442\n",
            "Epoch 84/100\n",
            "98/98 [==============================] - 17s 176ms/step - loss: 0.5438 - acc: 0.8135 - val_loss: 0.4936 - val_acc: 0.8427\n",
            "Epoch 85/100\n",
            "98/98 [==============================] - 17s 177ms/step - loss: 0.5539 - acc: 0.8125 - val_loss: 0.5641 - val_acc: 0.8148\n",
            "Epoch 86/100\n",
            "98/98 [==============================] - 17s 176ms/step - loss: 0.5493 - acc: 0.8143 - val_loss: 0.5864 - val_acc: 0.8107\n",
            "Epoch 87/100\n",
            "98/98 [==============================] - 17s 176ms/step - loss: 0.5501 - acc: 0.8133 - val_loss: 0.5218 - val_acc: 0.8311\n",
            "Epoch 88/100\n",
            "98/98 [==============================] - 17s 177ms/step - loss: 0.5479 - acc: 0.8136 - val_loss: 0.5473 - val_acc: 0.8289\n",
            "Epoch 89/100\n",
            "98/98 [==============================] - 17s 176ms/step - loss: 0.5445 - acc: 0.8146 - val_loss: 0.5881 - val_acc: 0.8098\n",
            "Epoch 90/100\n",
            "98/98 [==============================] - 17s 176ms/step - loss: 0.5436 - acc: 0.8157 - val_loss: 0.5666 - val_acc: 0.8191\n",
            "Epoch 91/100\n",
            "98/98 [==============================] - 17s 175ms/step - loss: 0.5368 - acc: 0.8157 - val_loss: 0.5786 - val_acc: 0.8231\n",
            "Epoch 92/100\n",
            "98/98 [==============================] - 17s 175ms/step - loss: 0.5438 - acc: 0.8148 - val_loss: 0.5385 - val_acc: 0.8337\n",
            "Epoch 93/100\n",
            "98/98 [==============================] - 17s 176ms/step - loss: 0.5409 - acc: 0.8160 - val_loss: 0.4850 - val_acc: 0.8462\n",
            "Epoch 94/100\n",
            "98/98 [==============================] - 17s 176ms/step - loss: 0.5383 - acc: 0.8160 - val_loss: 0.5340 - val_acc: 0.8319\n",
            "Epoch 95/100\n",
            "98/98 [==============================] - 17s 178ms/step - loss: 0.5409 - acc: 0.8142 - val_loss: 0.5355 - val_acc: 0.8377\n",
            "Epoch 96/100\n",
            "98/98 [==============================] - 17s 176ms/step - loss: 0.5394 - acc: 0.8147 - val_loss: 0.5216 - val_acc: 0.8342\n",
            "Epoch 97/100\n",
            "98/98 [==============================] - 17s 177ms/step - loss: 0.5428 - acc: 0.8164 - val_loss: 0.5364 - val_acc: 0.8429\n",
            "Epoch 98/100\n",
            "98/98 [==============================] - 17s 176ms/step - loss: 0.5420 - acc: 0.8147 - val_loss: 0.5184 - val_acc: 0.8381\n",
            "Epoch 99/100\n",
            "98/98 [==============================] - 17s 176ms/step - loss: 0.5419 - acc: 0.8160 - val_loss: 0.5073 - val_acc: 0.8380\n",
            "Epoch 100/100\n",
            "98/98 [==============================] - 17s 176ms/step - loss: 0.5376 - acc: 0.8180 - val_loss: 0.5294 - val_acc: 0.8365\n"
          ],
          "name": "stdout"
        }
      ]
    },
    {
      "cell_type": "code",
      "metadata": {
        "id": "ssJ1UUklPm-h",
        "colab_type": "code",
        "outputId": "11ab9983-5911-4d96-89d7-723e98ea0ba5",
        "colab": {
          "base_uri": "https://localhost:8080/",
          "height": 34
        }
      },
      "source": [
        "print(hist.history)"
      ],
      "execution_count": 8,
      "outputs": [
        {
          "output_type": "stream",
          "text": [
            "dict_keys(['loss', 'acc', 'val_loss', 'val_acc'])\n"
          ],
          "name": "stdout"
        }
      ]
    },
    {
      "cell_type": "code",
      "metadata": {
        "id": "uaK2F5Eekgja",
        "colab_type": "code",
        "outputId": "3686a0d1-f8dd-425d-d8fa-ab69975b2f9d",
        "colab": {
          "base_uri": "https://localhost:8080/",
          "height": 572
        }
      },
      "source": [
        "plt.plot(history.history['acc'])\n",
        "plt.plot(history.history['val_acc'])\n",
        "plt.title('model accuracy')\n",
        "plt.ylabel('accuracy')\n",
        "plt.xlabel('epoch')\n",
        "plt.legend(['train' ,'test'], loc='upper left')\n",
        "plt.show()\n",
        "\n",
        "plt.plot(history.history['loss'])\n",
        "plt.plot(history.history['val_loss'])\n",
        "plt.title('model loss')\n",
        "plt.ylabel('loss')\n",
        "plt.xlabel('epoch')\n",
        "plt.legend(['train', 'test'], loc= 'upper left')\n",
        "plt.show()"
      ],
      "execution_count": 9,
      "outputs": [
        {
          "output_type": "display_data",
          "data": {
            "image/png": "[encoded data removed]",
            "text/plain": [
              "<Figure size 432x288 with 1 Axes>"
            ]
          },
          "metadata": {
            "tags": []
          }
        },
        {
          "output_type": "display_data",
          "data": {
            "image/png": "[encoded data removed]",
            "text/plain": [
              "<Figure size 432x288 with 1 Axes>"
            ]
          },
          "metadata": {
            "tags": []
          }
        }
      ]
    },
    {
      "cell_type": "code",
      "metadata": {
        "id": "aaqJIDiEohNa",
        "colab_type": "code",
        "outputId": "42e189c2-f85e-4b75-97e2-363eccb6faf6",
        "colab": {
          "base_uri": "https://localhost:8080/",
          "height": 87
        }
      },
      "source": [
        "# Save model and weights\n",
        "if not os.path.isdir(save_dir):\n",
        "    os.makedirs(save_dir)\n",
        "model_path = os.path.join(save_dir, model_name)\n",
        "model.save(model_path)\n",
        "print('Saved trained model at %s ' % model_path)\n",
        "\n",
        "# Score trained model.\n",
        "scores = model.evaluate(x_test, y_test, verbose=1)\n",
        "print('Test loss:', scores[0])\n",
        "print('Test accuracy:', scores[1])"
      ],
      "execution_count": 10,
      "outputs": [
        {
          "output_type": "stream",
          "text": [
            "Saved trained model at /content/saved_models/keras_cifar10_trained_model.h5 \n",
            "10000/10000 [==============================] - 1s 100us/sample - loss: 0.5245 - acc: 0.8365\n",
            "Test loss: 0.524543654847145\n",
            "Test accuracy: 0.8365\n"
          ],
          "name": "stdout"
        }
      ]
    }
  ]
}