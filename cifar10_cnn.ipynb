{
  "nbformat": 4,
  "nbformat_minor": 0,
  "metadata": {
    "colab": {
      "name": "cifar10_cnn.ipynb",
      "version": "0.3.2",
      "provenance": [],
      "collapsed_sections": [],
      "include_colab_link": true
    },
    "kernelspec": {
      "name": "python3",
      "display_name": "Python 3"
    },
    "accelerator": "GPU"
  },
  "cells": [
    {
      "cell_type": "markdown",
      "metadata": {
        "id": "view-in-github",
        "colab_type": "text"
      },
      "source": [
        "<a href=\"https://colab.research.google.com/github/satyamsingh1004/ML/blob/master/cifar10_cnn.ipynb\" target=\"_parent\"><img src=\"https://colab.research.google.com/assets/colab-badge.svg\" alt=\"Open In Colab\"/></a>"
      ]
    },
    {
      "cell_type": "code",
      "metadata": {
        "id": "HvrTVFA12YQG",
        "colab_type": "code",
        "colab": {}
      },
      "source": [
        "# Reference- https://github.com/keras-team/keras/blob/master/examples/cifar10_cnn.py\n",
        "\n",
        "from tensorflow.keras.datasets import cifar10\n",
        "from tensorflow.keras.models import Sequential\n",
        "from tensorflow.keras.layers import Conv2D, Activation, MaxPooling2D, Dropout, Flatten, Dense\n",
        "from tensorflow.keras.optimizers import RMSprop\n",
        "from tensorflow.keras.utils import to_categorical\n",
        "from tensorflow.keras.preprocessing.image import ImageDataGenerator\n",
        "\n",
        "import matplotlib.pyplot as plt"
      ],
      "execution_count": 0,
      "outputs": []
    },
    {
      "cell_type": "code",
      "metadata": {
        "id": "WTEVS2lY3KA7",
        "colab_type": "code",
        "colab": {}
      },
      "source": [
        "(x_train, y_train), (x_test, y_test) = cifar10.load_data()"
      ],
      "execution_count": 0,
      "outputs": []
    },
    {
      "cell_type": "code",
      "metadata": {
        "id": "QBLTdQlo-UDy",
        "colab_type": "code",
        "colab": {
          "base_uri": "https://localhost:8080/",
          "height": 34
        },
        "outputId": "ce03a1ca-58de-41f7-d4af-015ed2f0130e"
      },
      "source": [
        "print(x_train[0].shape,x_train.shape[1:])"
      ],
      "execution_count": 3,
      "outputs": [
        {
          "output_type": "stream",
          "text": [
            "(32, 32, 3) (32, 32, 3)\n"
          ],
          "name": "stdout"
        }
      ]
    },
    {
      "cell_type": "code",
      "metadata": {
        "id": "pDLBXunl650t",
        "colab_type": "code",
        "colab": {
          "base_uri": "https://localhost:8080/",
          "height": 107
        },
        "outputId": "c95ec521-9ec6-439d-c733-36874219590e"
      },
      "source": [
        "num_classes = 10\n",
        "batch_size = 512\n",
        "epochs = 30\n",
        "data_augmentation = True\n",
        "\n",
        "model = Sequential([\n",
        "    Conv2D(32, (3, 3), padding='same', input_shape=x_train.shape[1:]),\n",
        "    Activation('relu'),\n",
        "    Conv2D(32, (3, 3)),\n",
        "    Activation('relu'),\n",
        "    MaxPooling2D(pool_size=(2, 2)),\n",
        "    Dropout(0.25),\n",
        "    \n",
        "    Conv2D(64, (3, 3), padding='same'),\n",
        "    Activation('relu'),\n",
        "    Conv2D(64, (3, 3)),\n",
        "    Activation('relu'),\n",
        "    MaxPooling2D(pool_size=(2, 2)),\n",
        "    Dropout(0.25),\n",
        "    \n",
        "    Flatten(),\n",
        "    Dense(512),\n",
        "    Activation('relu'),\n",
        "    Dropout(0.5),\n",
        "    Dense(num_classes),\n",
        "    Activation('softmax')\n",
        "])"
      ],
      "execution_count": 4,
      "outputs": [
        {
          "output_type": "stream",
          "text": [
            "WARNING: Logging before flag parsing goes to stderr.\n",
            "W0820 10:33:43.088267 140047449540480 deprecation.py:506] From /usr/local/lib/python3.6/dist-packages/tensorflow/python/ops/init_ops.py:1251: calling VarianceScaling.__init__ (from tensorflow.python.ops.init_ops) with dtype is deprecated and will be removed in a future version.\n",
            "Instructions for updating:\n",
            "Call initializer instance with the dtype argument instead of passing it to the constructor\n"
          ],
          "name": "stderr"
        }
      ]
    },
    {
      "cell_type": "code",
      "metadata": {
        "id": "aEYHGg7-BBSv",
        "colab_type": "code",
        "colab": {}
      },
      "source": [
        "model.compile(optimizer= RMSprop(lr=0.0001, decay=1e-6), \n",
        "             loss = 'categorical_crossentropy',\n",
        "             metrics = ['accuracy'])"
      ],
      "execution_count": 0,
      "outputs": []
    },
    {
      "cell_type": "code",
      "metadata": {
        "id": "A82pJM_cWZb1",
        "colab_type": "code",
        "colab": {}
      },
      "source": [
        "x_train = x_train.astype('float32')\n",
        "x_test = x_test.astype('float32')\n",
        "x_train /= 255\n",
        "x_test /= 255\n",
        "\n",
        "y_train = to_categorical(y_train)\n",
        "y_test = to_categorical(y_test)"
      ],
      "execution_count": 0,
      "outputs": []
    },
    {
      "cell_type": "code",
      "metadata": {
        "id": "l58HydIoBb12",
        "colab_type": "code",
        "colab": {
          "base_uri": "https://localhost:8080/",
          "height": 1000
        },
        "outputId": "739b59ab-2d1b-45eb-82b3-b89225704081"
      },
      "source": [
        "\n",
        "if not data_augmentation:\n",
        "    print('Not using data augmentation.')\n",
        "    history = model.fit(x_train, y_train,\n",
        "              batch_size=batch_size,\n",
        "              epochs=epochs,\n",
        "              validation_data=(x_test, y_test),\n",
        "              shuffle=True)\n",
        "else:\n",
        "    print('Using real-time data augmentation.')\n",
        "    # This will do preprocessing and realtime data augmentation:\n",
        "    datagen = ImageDataGenerator(\n",
        "        featurewise_center=False,  # set input mean to 0 over the dataset\n",
        "        samplewise_center=False,  # set each sample mean to 0\n",
        "        featurewise_std_normalization=False,  # divide inputs by std of the dataset\n",
        "        samplewise_std_normalization=False,  # divide each input by its std\n",
        "        zca_whitening=False,  # apply ZCA whitening\n",
        "        zca_epsilon=1e-06,  # epsilon for ZCA whitening\n",
        "        rotation_range=0,  # randomly rotate images in the range (degrees, 0 to 180)\n",
        "        # randomly shift images horizontally (fraction of total width)\n",
        "        width_shift_range=0.1,\n",
        "        # randomly shift images vertically (fraction of total height)\n",
        "        height_shift_range=0.1,\n",
        "        shear_range=0.,  # set range for random shear\n",
        "        zoom_range=0.,  # set range for random zoom\n",
        "        channel_shift_range=0.,  # set range for random channel shifts\n",
        "        # set mode for filling points outside the input boundaries\n",
        "        fill_mode='nearest',\n",
        "        cval=0.,  # value used for fill_mode = \"constant\"\n",
        "        horizontal_flip=True,  # randomly flip images\n",
        "        vertical_flip=False,  # randomly flip images\n",
        "        # set rescaling factor (applied before any other transformation)\n",
        "        rescale=None,\n",
        "        # set function that will be applied on each input\n",
        "        preprocessing_function=None,\n",
        "        # image data format, either \"channels_first\" or \"channels_last\"\n",
        "        data_format=None,\n",
        "        # fraction of images reserved for validation (strictly between 0 and 1)\n",
        "        validation_split=0.0)\n",
        "\n",
        "    # Compute quantities required for feature-wise normalization\n",
        "    # (std, mean, and principal components if ZCA whitening is applied).\n",
        "    datagen.fit(x_train)\n",
        "\n",
        "    # Fit the model on the batches generated by datagen.flow().\n",
        "    history = model.fit_generator(datagen.flow(x_train, y_train,\n",
        "                                     batch_size=batch_size),\n",
        "                        epochs=epochs,\n",
        "                        validation_data=(x_test, y_test),\n",
        "                        workers=1)\n"
      ],
      "execution_count": 7,
      "outputs": [
        {
          "output_type": "stream",
          "text": [
            "Using real-time data augmentation.\n",
            "Epoch 1/30\n",
            "98/98 [==============================] - 19s 198ms/step - loss: 2.1409 - acc: 0.2009 - val_loss: 2.0024 - val_acc: 0.2896\n",
            "Epoch 2/30\n",
            "98/98 [==============================] - 17s 173ms/step - loss: 1.9592 - acc: 0.2852 - val_loss: 1.8256 - val_acc: 0.3681\n",
            "Epoch 3/30\n",
            "98/98 [==============================] - 17s 175ms/step - loss: 1.8436 - acc: 0.3328 - val_loss: 1.7823 - val_acc: 0.3692\n",
            "Epoch 4/30\n",
            "98/98 [==============================] - 17s 175ms/step - loss: 1.7754 - acc: 0.3597 - val_loss: 1.7063 - val_acc: 0.3994\n",
            "Epoch 5/30\n",
            "98/98 [==============================] - 17s 176ms/step - loss: 1.7290 - acc: 0.3783 - val_loss: 1.6191 - val_acc: 0.4208\n",
            "Epoch 6/30\n",
            "98/98 [==============================] - 17s 176ms/step - loss: 1.6826 - acc: 0.3914 - val_loss: 1.5780 - val_acc: 0.4338\n",
            "Epoch 7/30\n",
            "98/98 [==============================] - 17s 178ms/step - loss: 1.6542 - acc: 0.3990 - val_loss: 1.5362 - val_acc: 0.4554\n",
            "Epoch 8/30\n",
            "98/98 [==============================] - 17s 178ms/step - loss: 1.6205 - acc: 0.4158 - val_loss: 1.4911 - val_acc: 0.4683\n",
            "Epoch 9/30\n",
            "98/98 [==============================] - 17s 177ms/step - loss: 1.5899 - acc: 0.4237 - val_loss: 1.4857 - val_acc: 0.4657\n",
            "Epoch 10/30\n",
            "98/98 [==============================] - 17s 178ms/step - loss: 1.5656 - acc: 0.4367 - val_loss: 1.4681 - val_acc: 0.4754\n",
            "Epoch 11/30\n",
            "98/98 [==============================] - 18s 180ms/step - loss: 1.5454 - acc: 0.4373 - val_loss: 1.4182 - val_acc: 0.4918\n",
            "Epoch 12/30\n",
            "98/98 [==============================] - 17s 178ms/step - loss: 1.5230 - acc: 0.4520 - val_loss: 1.4043 - val_acc: 0.4959\n",
            "Epoch 13/30\n",
            "98/98 [==============================] - 17s 178ms/step - loss: 1.4990 - acc: 0.4591 - val_loss: 1.3634 - val_acc: 0.5139\n",
            "Epoch 14/30\n",
            "98/98 [==============================] - 17s 178ms/step - loss: 1.4854 - acc: 0.4679 - val_loss: 1.4352 - val_acc: 0.4846\n",
            "Epoch 15/30\n",
            "98/98 [==============================] - 17s 176ms/step - loss: 1.4731 - acc: 0.4698 - val_loss: 1.3500 - val_acc: 0.5180\n",
            "Epoch 16/30\n",
            "98/98 [==============================] - 17s 178ms/step - loss: 1.4497 - acc: 0.4797 - val_loss: 1.3594 - val_acc: 0.5164\n",
            "Epoch 17/30\n",
            "98/98 [==============================] - 17s 178ms/step - loss: 1.4379 - acc: 0.4826 - val_loss: 1.3139 - val_acc: 0.5352\n",
            "Epoch 18/30\n",
            "98/98 [==============================] - 17s 176ms/step - loss: 1.4254 - acc: 0.4921 - val_loss: 1.2706 - val_acc: 0.5519\n",
            "Epoch 19/30\n",
            "98/98 [==============================] - 17s 175ms/step - loss: 1.4097 - acc: 0.4954 - val_loss: 1.2677 - val_acc: 0.5529\n",
            "Epoch 20/30\n",
            "98/98 [==============================] - 17s 177ms/step - loss: 1.3865 - acc: 0.5073 - val_loss: 1.2494 - val_acc: 0.5566\n",
            "Epoch 21/30\n",
            "98/98 [==============================] - 17s 175ms/step - loss: 1.3777 - acc: 0.5047 - val_loss: 1.2764 - val_acc: 0.5460\n",
            "Epoch 22/30\n",
            "98/98 [==============================] - 17s 176ms/step - loss: 1.3621 - acc: 0.5133 - val_loss: 1.2468 - val_acc: 0.5583\n",
            "Epoch 23/30\n",
            "98/98 [==============================] - 17s 174ms/step - loss: 1.3560 - acc: 0.5179 - val_loss: 1.2695 - val_acc: 0.5526\n",
            "Epoch 24/30\n",
            "98/98 [==============================] - 17s 175ms/step - loss: 1.3412 - acc: 0.5209 - val_loss: 1.2287 - val_acc: 0.5631\n",
            "Epoch 25/30\n",
            "98/98 [==============================] - 17s 174ms/step - loss: 1.3270 - acc: 0.5281 - val_loss: 1.1938 - val_acc: 0.5818\n",
            "Epoch 26/30\n",
            "98/98 [==============================] - 17s 174ms/step - loss: 1.3151 - acc: 0.5314 - val_loss: 1.2290 - val_acc: 0.5708\n",
            "Epoch 27/30\n",
            "98/98 [==============================] - 17s 176ms/step - loss: 1.3045 - acc: 0.5354 - val_loss: 1.1660 - val_acc: 0.5877\n",
            "Epoch 28/30\n",
            "98/98 [==============================] - 17s 175ms/step - loss: 1.2921 - acc: 0.5403 - val_loss: 1.1854 - val_acc: 0.5799\n",
            "Epoch 29/30\n",
            "98/98 [==============================] - 17s 177ms/step - loss: 1.2850 - acc: 0.5451 - val_loss: 1.2070 - val_acc: 0.5716\n",
            "Epoch 30/30\n",
            "98/98 [==============================] - 17s 175ms/step - loss: 1.2705 - acc: 0.5501 - val_loss: 1.1883 - val_acc: 0.5814\n"
          ],
          "name": "stdout"
        }
      ]
    },
    {
      "cell_type": "code",
      "metadata": {
        "id": "ssJ1UUklPm-h",
        "colab_type": "code",
        "colab": {
          "base_uri": "https://localhost:8080/",
          "height": 34
        },
        "outputId": "d6afb277-b223-4836-8b2b-59d3041f0b6d"
      },
      "source": [
        "print(history.history.keys())"
      ],
      "execution_count": 8,
      "outputs": [
        {
          "output_type": "stream",
          "text": [
            "dict_keys(['loss', 'acc', 'val_loss', 'val_acc'])\n"
          ],
          "name": "stdout"
        }
      ]
    },
    {
      "cell_type": "code",
      "metadata": {
        "id": "uaK2F5Eekgja",
        "colab_type": "code",
        "colab": {
          "base_uri": "https://localhost:8080/",
          "height": 572
        },
        "outputId": "50f5b190-0c8d-45c0-d9be-c3ceb4333ffc"
      },
      "source": [
        "plt.plot(history.history['acc'])\n",
        "plt.plot(history.history['val_acc'])\n",
        "plt.title('model accuracy')\n",
        "plt.ylabel('accuracy')\n",
        "plt.xlabel('epoch')\n",
        "plt.legend(['train' ,'test'], loc='upper left')\n",
        "plt.show()\n",
        "\n",
        "plt.plot(history.history['loss'])\n",
        "plt.plot(history.history['val_loss'])\n",
        "plt.title('model loss')\n",
        "plt.ylabel('loss')\n",
        "plt.xlabel('epoch')\n",
        "plt.legend(['train', 'test'], loc= 'upper left')\n",
        "plt.show()"
      ],
      "execution_count": 9,
      "outputs": [
        {
          "output_type": "display_data",
          "data": {
            "image/png": "[encoded data removed]",
            "text/plain": [
              "<Figure size 432x288 with 1 Axes>"
            ]
          },
          "metadata": {
            "tags": []
          }
        },
        {
          "output_type": "display_data",
          "data": {
            "image/png": "[encoded data removed]",
            "text/plain": [
              "<Figure size 432x288 with 1 Axes>"
            ]
          },
          "metadata": {
            "tags": []
          }
        }
      ]
    }
  ]
}